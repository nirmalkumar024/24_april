{
 "cells": [
  {
   "cell_type": "markdown",
   "id": "fb7560a4-8d9a-4010-84c5-adea3c2681a0",
   "metadata": {},
   "source": [
    "Q1. What is a projection and how is it used in PCA?"
   ]
  },
  {
   "cell_type": "markdown",
   "id": "8fc70ce3-aafb-4de0-922f-4ee5bf2ee524",
   "metadata": {},
   "source": [
    "PCA forms the basis of multivariate data analysis based on projection methods. The most important use of PCA is to represent a multivariate data table as smaller set of variables (summary indices) in order to observe trends, jumps, clusters and outliers"
   ]
  },
  {
   "cell_type": "markdown",
   "id": "246f7618-d617-4653-be91-64ec7ac75fcf",
   "metadata": {},
   "source": [
    "Q2. How does the optimization problem in PCA work, and what is it trying to achieve?"
   ]
  },
  {
   "cell_type": "markdown",
   "id": "ec5ca1f3-69c9-4c5f-a9bd-8f93d1f28186",
   "metadata": {},
   "source": [
    "As discussed above, a classic perspective is that PCA finds a set of directions (technically, a linear subspace) that maximizes the variance of the data once it is projected into that space."
   ]
  },
  {
   "cell_type": "markdown",
   "id": "798895e4-e9df-4a57-8c4e-de8c1e54f29f",
   "metadata": {},
   "source": [
    "Q3. What is the relationship between covariance matrices and PCA?"
   ]
  },
  {
   "cell_type": "markdown",
   "id": "3c17a185-8b3e-43e7-ae97-b7d65142f2a7",
   "metadata": {},
   "source": [
    "PCA is simply described as “diagonalizing the covariance matrix”. What does diagonalizing a matrix mean in this context? It simply means that we need to find a non-trivial linear combination of our original variables such that the covariance matrix is diagonal."
   ]
  },
  {
   "cell_type": "markdown",
   "id": "f2baa8e9-7b81-4071-b139-13e0f8b72db6",
   "metadata": {},
   "source": [
    "Q4. How does the choice of number of principal components impact the performance of PCA?"
   ]
  },
  {
   "cell_type": "markdown",
   "id": "6b363734-670e-4869-8c4c-dced20137a0c",
   "metadata": {},
   "source": [
    "You can choose the number of principal components that maximizes or optimizes your desired metric. In PCA, choose the smallest number of components that still capture most of the information in your data. A common approach is to pick enough components to cover about 95% of the total data variance, if we choose the wrong PCA then it take more time  to calculate the performance and best PCA line."
   ]
  },
  {
   "cell_type": "markdown",
   "id": "32cbf88e-81d7-443b-8b2a-a06c52a39847",
   "metadata": {},
   "source": [
    "Q5. How can PCA be used in feature selection, and what are the benefits of using it for this purpose?"
   ]
  },
  {
   "cell_type": "markdown",
   "id": "86ac6438-c343-4b19-8b80-a797bc56d86f",
   "metadata": {},
   "source": [
    "Reducing the number of variables in a data collection while retaining as much information as feasible is the main goal of PCA. PCA can be mainly used for Dimensionality Reduction and also for important feature selection"
   ]
  },
  {
   "cell_type": "markdown",
   "id": "913a1377-3854-41df-9ae6-a5986b7ceebe",
   "metadata": {},
   "source": [
    "Q6. What are some common applications of PCA in data science and machine learning?"
   ]
  },
  {
   "cell_type": "markdown",
   "id": "a4e88e49-38a8-4ef3-9690-974c2441cd87",
   "metadata": {},
   "source": [
    "Applications of PCA in Machine Learning:-\n",
    "\n",
    "PCA is used to visualize multidimensional data.\n",
    "It is used to reduce the number of dimensions in healthcare data.\n",
    "PCA can help resize an image.\n",
    "It can be used in finance to analyze stock data and forecast returns.\n",
    "PCA helps to find patterns in the high-dimensional datasets."
   ]
  },
  {
   "cell_type": "markdown",
   "id": "092f39d9-bdbb-4a04-965f-96be619ac0da",
   "metadata": {},
   "source": [
    "Q7.What is the relationship between spread and variance in PCA?"
   ]
  },
  {
   "cell_type": "markdown",
   "id": "777fe2f2-1793-40ce-b42b-4f6f59f087b2",
   "metadata": {},
   "source": [
    "The variance explained can be understood as the ratio of the vertical spread of the regression line (i.e., from the lowest point on the line to the highest point on the line) to the vertical spread of the data (i.e., from the lowest data point to the highest data point)."
   ]
  },
  {
   "cell_type": "markdown",
   "id": "6efd7b10-ac0e-46a9-a4c3-18c48ee7eeda",
   "metadata": {},
   "source": [
    "Q8. How does PCA use the spread and variance of the data to identify principal components?"
   ]
  },
  {
   "cell_type": "markdown",
   "id": "4914f886-4d62-4cfa-870d-b10a158f0c3f",
   "metadata": {},
   "source": [
    "How PCA Constructs the Principal Components. As there are as many principal components as there are variables in the data, principal components are constructed in such a manner that the first principal component accounts for the largest possible variance in the data set."
   ]
  },
  {
   "cell_type": "code",
   "execution_count": null,
   "id": "5a54e875-b89a-4284-9a06-7b84452ce1b9",
   "metadata": {},
   "outputs": [],
   "source": []
  }
 ],
 "metadata": {
  "kernelspec": {
   "display_name": "Python 3 (ipykernel)",
   "language": "python",
   "name": "python3"
  },
  "language_info": {
   "codemirror_mode": {
    "name": "ipython",
    "version": 3
   },
   "file_extension": ".py",
   "mimetype": "text/x-python",
   "name": "python",
   "nbconvert_exporter": "python",
   "pygments_lexer": "ipython3",
   "version": "3.10.8"
  }
 },
 "nbformat": 4,
 "nbformat_minor": 5
}
